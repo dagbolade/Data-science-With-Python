{
 "cells": [
  {
   "cell_type": "code",
   "execution_count": 1,
   "id": "initial_id",
   "metadata": {
    "collapsed": true,
    "ExecuteTime": {
     "end_time": "2023-10-03T23:02:31.584336200Z",
     "start_time": "2023-10-03T23:02:30.207890900Z"
    }
   },
   "outputs": [],
   "source": [
    "import pandas as pd\n"
   ]
  },
  {
   "cell_type": "code",
   "execution_count": 2,
   "outputs": [],
   "source": [
    "l = [x for x in range(5)]"
   ],
   "metadata": {
    "collapsed": false,
    "ExecuteTime": {
     "end_time": "2023-10-03T23:03:02.148494500Z",
     "start_time": "2023-10-03T23:03:02.119740300Z"
    }
   },
   "id": "ee421714b381021d"
  },
  {
   "cell_type": "code",
   "execution_count": 3,
   "outputs": [],
   "source": [
    "series = pd.Series(l)"
   ],
   "metadata": {
    "collapsed": false,
    "ExecuteTime": {
     "end_time": "2023-10-03T23:03:12.928797700Z",
     "start_time": "2023-10-03T23:03:12.907408200Z"
    }
   },
   "id": "44b733cb4f53c3b4"
  },
  {
   "cell_type": "code",
   "execution_count": 4,
   "outputs": [
    {
     "data": {
      "text/plain": "0    0\n1    1\n2    2\n3    3\n4    4\ndtype: int64"
     },
     "execution_count": 4,
     "metadata": {},
     "output_type": "execute_result"
    }
   ],
   "source": [
    "series"
   ],
   "metadata": {
    "collapsed": false,
    "ExecuteTime": {
     "end_time": "2023-10-03T23:03:16.114110700Z",
     "start_time": "2023-10-03T23:03:16.092695700Z"
    }
   },
   "id": "b70eec760176aa12"
  },
  {
   "cell_type": "code",
   "execution_count": 5,
   "outputs": [
    {
     "data": {
      "text/plain": "3"
     },
     "execution_count": 5,
     "metadata": {},
     "output_type": "execute_result"
    }
   ],
   "source": [
    "series[3]"
   ],
   "metadata": {
    "collapsed": false,
    "ExecuteTime": {
     "end_time": "2023-10-03T23:04:18.023187400Z",
     "start_time": "2023-10-03T23:04:18.009546800Z"
    }
   },
   "id": "34ddb6799bc9374a"
  },
  {
   "cell_type": "code",
   "execution_count": 6,
   "outputs": [
    {
     "data": {
      "text/plain": "a    0\nb    1\nc    2\nd    3\ne    4\ndtype: int64"
     },
     "execution_count": 6,
     "metadata": {},
     "output_type": "execute_result"
    }
   ],
   "source": [
    "series = pd.Series(l, index=['a', 'b', 'c', 'd', 'e'])\n",
    "series"
   ],
   "metadata": {
    "collapsed": false,
    "ExecuteTime": {
     "end_time": "2023-10-03T23:05:28.123795700Z",
     "start_time": "2023-10-03T23:05:28.082847Z"
    }
   },
   "id": "ef34b5157ead1f2"
  },
  {
   "cell_type": "code",
   "execution_count": 7,
   "outputs": [
    {
     "data": {
      "text/plain": "2"
     },
     "execution_count": 7,
     "metadata": {},
     "output_type": "execute_result"
    }
   ],
   "source": [
    "series['c']"
   ],
   "metadata": {
    "collapsed": false,
    "ExecuteTime": {
     "end_time": "2023-10-03T23:06:15.115147Z",
     "start_time": "2023-10-03T23:06:15.077298200Z"
    }
   },
   "id": "71e9483427751e28"
  },
  {
   "cell_type": "code",
   "execution_count": 8,
   "outputs": [
    {
     "data": {
      "text/plain": "d    3\nd    4\ndtype: int64"
     },
     "execution_count": 8,
     "metadata": {},
     "output_type": "execute_result"
    }
   ],
   "source": [
    "series = pd.Series(l, index=['a', 'b', 'c', 'd', 'd'])\n",
    "series['d']"
   ],
   "metadata": {
    "collapsed": false,
    "ExecuteTime": {
     "end_time": "2023-10-03T23:06:54.850621600Z",
     "start_time": "2023-10-03T23:06:54.775610200Z"
    }
   },
   "id": "9b1362bf22864b64"
  },
  {
   "cell_type": "code",
   "execution_count": 9,
   "outputs": [],
   "source": [
    "data = {'a':1, 'b':2, 'c':3, 'd':4}"
   ],
   "metadata": {
    "collapsed": false,
    "ExecuteTime": {
     "end_time": "2023-10-03T23:08:28.128676300Z",
     "start_time": "2023-10-03T23:08:28.085083900Z"
    }
   },
   "id": "d343017b4c31ae93"
  },
  {
   "cell_type": "code",
   "execution_count": 10,
   "outputs": [],
   "source": [
    "series = pd.Series(data)"
   ],
   "metadata": {
    "collapsed": false,
    "ExecuteTime": {
     "end_time": "2023-10-03T23:08:32.637723Z",
     "start_time": "2023-10-03T23:08:32.594888700Z"
    }
   },
   "id": "1d1ae0e86245aea9"
  },
  {
   "cell_type": "code",
   "execution_count": 11,
   "outputs": [
    {
     "data": {
      "text/plain": "a    1\nb    2\nc    3\nd    4\ndtype: int64"
     },
     "execution_count": 11,
     "metadata": {},
     "output_type": "execute_result"
    }
   ],
   "source": [
    "series"
   ],
   "metadata": {
    "collapsed": false,
    "ExecuteTime": {
     "end_time": "2023-10-03T23:08:35.326517700Z",
     "start_time": "2023-10-03T23:08:35.263107900Z"
    }
   },
   "id": "4d38080bbaeb03a2"
  },
  {
   "cell_type": "code",
   "execution_count": 12,
   "outputs": [],
   "source": [
    "#taking 2 keys from the dictionary\n",
    "series = pd.Series(data, index=['a', 'b'])"
   ],
   "metadata": {
    "collapsed": false,
    "ExecuteTime": {
     "end_time": "2023-10-03T23:09:35.703866700Z",
     "start_time": "2023-10-03T23:09:35.672774600Z"
    }
   },
   "id": "da2a90fd7fed0ff"
  },
  {
   "cell_type": "code",
   "execution_count": 13,
   "outputs": [
    {
     "data": {
      "text/plain": "a    1\nb    2\ndtype: int64"
     },
     "execution_count": 13,
     "metadata": {},
     "output_type": "execute_result"
    }
   ],
   "source": [
    "series"
   ],
   "metadata": {
    "collapsed": false,
    "ExecuteTime": {
     "end_time": "2023-10-03T23:09:38.307146700Z",
     "start_time": "2023-10-03T23:09:38.290915200Z"
    }
   },
   "id": "704fe5275ee6f7cc"
  },
  {
   "cell_type": "code",
   "execution_count": null,
   "outputs": [],
   "source": [],
   "metadata": {
    "collapsed": false
   },
   "id": "64c2eee6e554402"
  }
 ],
 "metadata": {
  "kernelspec": {
   "display_name": "Python 3",
   "language": "python",
   "name": "python3"
  },
  "language_info": {
   "codemirror_mode": {
    "name": "ipython",
    "version": 2
   },
   "file_extension": ".py",
   "mimetype": "text/x-python",
   "name": "python",
   "nbconvert_exporter": "python",
   "pygments_lexer": "ipython2",
   "version": "2.7.6"
  }
 },
 "nbformat": 4,
 "nbformat_minor": 5
}
