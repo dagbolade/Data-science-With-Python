{
 "cells": [
  {
   "cell_type": "code",
   "execution_count": 2,
   "id": "initial_id",
   "metadata": {
    "collapsed": true,
    "ExecuteTime": {
     "end_time": "2023-10-03T22:43:04.497015600Z",
     "start_time": "2023-10-03T22:43:03.490414400Z"
    }
   },
   "outputs": [],
   "source": [
    "#import Numpy library\n",
    "import numpy as np"
   ]
  },
  {
   "cell_type": "code",
   "execution_count": 3,
   "outputs": [],
   "source": [
    "#first Numpy array\n",
    "first_numpy_array = np.array([1,2,3,4])"
   ],
   "metadata": {
    "collapsed": false,
    "ExecuteTime": {
     "end_time": "2023-10-03T22:43:04.554214400Z",
     "start_time": "2023-10-03T22:43:04.498055700Z"
    }
   },
   "id": "7f632f6f10886b9c"
  },
  {
   "cell_type": "code",
   "execution_count": 4,
   "outputs": [
    {
     "name": "stdout",
     "output_type": "stream",
     "text": [
      "[1 2 3 4]\n"
     ]
    }
   ],
   "source": [
    "#print first array\n",
    "print(first_numpy_array)"
   ],
   "metadata": {
    "collapsed": false,
    "ExecuteTime": {
     "end_time": "2023-10-03T22:43:04.574366600Z",
     "start_time": "2023-10-03T22:43:04.557213700Z"
    }
   },
   "id": "ed2ee4df1178b041"
  },
  {
   "cell_type": "code",
   "execution_count": 5,
   "outputs": [
    {
     "data": {
      "text/plain": "array([[0., 0., 0.],\n       [0., 0., 0.],\n       [0., 0., 0.]])"
     },
     "execution_count": 5,
     "metadata": {},
     "output_type": "execute_result"
    }
   ],
   "source": [
    "#array with zeros\n",
    "array_with_zeros = np.zeros((3,3))\n",
    "array_with_zeros"
   ],
   "metadata": {
    "collapsed": false,
    "ExecuteTime": {
     "end_time": "2023-10-03T22:43:04.630380900Z",
     "start_time": "2023-10-03T22:43:04.580885200Z"
    }
   },
   "id": "99887d862ddd431a"
  },
  {
   "cell_type": "code",
   "execution_count": 6,
   "outputs": [
    {
     "data": {
      "text/plain": "array([[1., 1., 1.],\n       [1., 1., 1.],\n       [1., 1., 1.]])"
     },
     "execution_count": 6,
     "metadata": {},
     "output_type": "execute_result"
    }
   ],
   "source": [
    "#array with ones\n",
    "array_with_ones = np.ones((3,3))\n",
    "array_with_ones"
   ],
   "metadata": {
    "collapsed": false,
    "ExecuteTime": {
     "end_time": "2023-10-03T22:43:04.634887900Z",
     "start_time": "2023-10-03T22:43:04.616151800Z"
    }
   },
   "id": "55df842b86e0524b"
  },
  {
   "cell_type": "code",
   "execution_count": 7,
   "outputs": [
    {
     "data": {
      "text/plain": "array([[0., 0., 0.],\n       [0., 0., 0.]])"
     },
     "execution_count": 7,
     "metadata": {},
     "output_type": "execute_result"
    }
   ],
   "source": [
    "#array with empty\n",
    "array_with_empty = np.empty((2,3))\n",
    "array_with_empty"
   ],
   "metadata": {
    "collapsed": false,
    "ExecuteTime": {
     "end_time": "2023-10-03T22:43:04.681566400Z",
     "start_time": "2023-10-03T22:43:04.638893500Z"
    }
   },
   "id": "c024fe567db846d7"
  },
  {
   "cell_type": "code",
   "execution_count": 8,
   "outputs": [
    {
     "data": {
      "text/plain": "array([ 0,  1,  2,  3,  4,  5,  6,  7,  8,  9, 10, 11])"
     },
     "execution_count": 8,
     "metadata": {},
     "output_type": "execute_result"
    }
   ],
   "source": [
    "#array with arange method\n",
    "array_with_arange = np.arange(12)\n",
    "array_with_arange\n"
   ],
   "metadata": {
    "collapsed": false,
    "ExecuteTime": {
     "end_time": "2023-10-03T22:43:04.713308600Z",
     "start_time": "2023-10-03T22:43:04.655633100Z"
    }
   },
   "id": "f7adbdbe79c7c106"
  },
  {
   "cell_type": "code",
   "execution_count": 9,
   "outputs": [
    {
     "data": {
      "text/plain": "array([[ 0,  1,  2,  3],\n       [ 4,  5,  6,  7],\n       [ 8,  9, 10, 11]])"
     },
     "execution_count": 9,
     "metadata": {},
     "output_type": "execute_result"
    }
   ],
   "source": [
    "#array with reshape method  \n",
    "array_with_reshape = array_with_arange.reshape(3,4)\n",
    "array_with_reshape"
   ],
   "metadata": {
    "collapsed": false,
    "ExecuteTime": {
     "end_time": "2023-10-03T22:43:04.753846500Z",
     "start_time": "2023-10-03T22:43:04.706309300Z"
    }
   },
   "id": "9c3c8e92720c1be6"
  },
  {
   "cell_type": "code",
   "execution_count": 10,
   "outputs": [
    {
     "data": {
      "text/plain": "array([ 1.        ,  1.47368421,  1.94736842,  2.42105263,  2.89473684,\n        3.36842105,  3.84210526,  4.31578947,  4.78947368,  5.26315789,\n        5.73684211,  6.21052632,  6.68421053,  7.15789474,  7.63157895,\n        8.10526316,  8.57894737,  9.05263158,  9.52631579, 10.        ])"
     },
     "execution_count": 10,
     "metadata": {},
     "output_type": "execute_result"
    }
   ],
   "source": [
    "#array with linspace method\n",
    "array_with_linspace = np.linspace(1,10,20)\n",
    "array_with_linspace"
   ],
   "metadata": {
    "collapsed": false,
    "ExecuteTime": {
     "end_time": "2023-10-03T22:43:04.775714600Z",
     "start_time": "2023-10-03T22:43:04.740844100Z"
    }
   },
   "id": "254c84bb8ddbb0d3"
  },
  {
   "cell_type": "code",
   "execution_count": 11,
   "outputs": [
    {
     "data": {
      "text/plain": "array([ 0,  1,  2,  3,  4,  5,  6,  7,  8,  9, 10, 11, 12, 13, 14])"
     },
     "execution_count": 11,
     "metadata": {},
     "output_type": "execute_result"
    }
   ],
   "source": [
    "#one dimensional array\n",
    "one_dimensional_array = np.arange(15)\n",
    "one_dimensional_array"
   ],
   "metadata": {
    "collapsed": false,
    "ExecuteTime": {
     "end_time": "2023-10-03T22:43:04.810142400Z",
     "start_time": "2023-10-03T22:43:04.780997500Z"
    }
   },
   "id": "8e11a4584d6d374d"
  },
  {
   "cell_type": "code",
   "execution_count": 12,
   "outputs": [
    {
     "data": {
      "text/plain": "array([[ 0,  1,  2,  3,  4],\n       [ 5,  6,  7,  8,  9],\n       [10, 11, 12, 13, 14]])"
     },
     "execution_count": 12,
     "metadata": {},
     "output_type": "execute_result"
    }
   ],
   "source": [
    "#two dimensional array\n",
    "two_dimensional_array = one_dimensional_array.reshape(3,5)\n",
    "two_dimensional_array"
   ],
   "metadata": {
    "collapsed": false,
    "ExecuteTime": {
     "end_time": "2023-10-03T22:43:04.824310600Z",
     "start_time": "2023-10-03T22:43:04.803429600Z"
    }
   },
   "id": "285aebd1cf28f442"
  },
  {
   "cell_type": "code",
   "execution_count": 13,
   "outputs": [
    {
     "data": {
      "text/plain": "array([[[ 0,  1,  2],\n        [ 3,  4,  5],\n        [ 6,  7,  8]],\n\n       [[ 9, 10, 11],\n        [12, 13, 14],\n        [15, 16, 17]],\n\n       [[18, 19, 20],\n        [21, 22, 23],\n        [24, 25, 26]]])"
     },
     "execution_count": 13,
     "metadata": {},
     "output_type": "execute_result"
    }
   ],
   "source": [
    "#three dimensional array\n",
    "three_dimensional_array = np.arange(27).reshape(3,3,3)\n",
    "three_dimensional_array"
   ],
   "metadata": {
    "collapsed": false,
    "ExecuteTime": {
     "end_time": "2023-10-03T22:43:04.873730800Z",
     "start_time": "2023-10-03T22:43:04.827311300Z"
    }
   },
   "id": "4c18cbeb1608dcb3"
  },
  {
   "cell_type": "markdown",
   "source": [
    "Creating Multiple Dimensional Arrays"
   ],
   "metadata": {
    "collapsed": false
   },
   "id": "af7f550f59f47e23"
  },
  {
   "cell_type": "code",
   "execution_count": 14,
   "outputs": [
    {
     "data": {
      "text/plain": "array(24)"
     },
     "execution_count": 14,
     "metadata": {},
     "output_type": "execute_result"
    }
   ],
   "source": [
    "np.array(24)"
   ],
   "metadata": {
    "collapsed": false,
    "ExecuteTime": {
     "end_time": "2023-10-03T22:43:04.909464200Z",
     "start_time": "2023-10-03T22:43:04.842094300Z"
    }
   },
   "id": "88d31d978c748011"
  },
  {
   "cell_type": "code",
   "execution_count": 15,
   "outputs": [
    {
     "data": {
      "text/plain": "(3, 3, 3)"
     },
     "execution_count": 15,
     "metadata": {},
     "output_type": "execute_result"
    }
   ],
   "source": [
    "three_dimensional_array.shape"
   ],
   "metadata": {
    "collapsed": false,
    "ExecuteTime": {
     "end_time": "2023-10-03T22:43:04.911465800Z",
     "start_time": "2023-10-03T22:43:04.870732300Z"
    }
   },
   "id": "6d5595ff30eae6a5"
  },
  {
   "cell_type": "code",
   "execution_count": 16,
   "outputs": [
    {
     "data": {
      "text/plain": "3"
     },
     "execution_count": 16,
     "metadata": {},
     "output_type": "execute_result"
    }
   ],
   "source": [
    "three_dimensional_array.ndim"
   ],
   "metadata": {
    "collapsed": false,
    "ExecuteTime": {
     "end_time": "2023-10-03T22:43:04.983493Z",
     "start_time": "2023-10-03T22:43:04.885236300Z"
    }
   },
   "id": "edba1582b2a8359b"
  },
  {
   "cell_type": "markdown",
   "source": [],
   "metadata": {
    "collapsed": false
   },
   "id": "93cf33659270c6cf"
  },
  {
   "cell_type": "markdown",
   "source": [
    "converting a 1d array to 2d array or 3d array"
   ],
   "metadata": {
    "collapsed": false
   },
   "id": "d373f07c28dd393b"
  },
  {
   "cell_type": "code",
   "execution_count": 17,
   "outputs": [
    {
     "data": {
      "text/plain": "array([1, 2, 3, 4, 5, 6, 7, 8, 9])"
     },
     "execution_count": 17,
     "metadata": {},
     "output_type": "execute_result"
    }
   ],
   "source": [
    "#creating a 1d array\n",
    "numpy_arr = np.array([x for x in range(1,10)])\n",
    "numpy_arr"
   ],
   "metadata": {
    "collapsed": false,
    "ExecuteTime": {
     "end_time": "2023-10-03T22:43:04.987493500Z",
     "start_time": "2023-10-03T22:43:04.903727300Z"
    }
   },
   "id": "480082044d056c5e"
  },
  {
   "cell_type": "code",
   "execution_count": 18,
   "outputs": [
    {
     "data": {
      "text/plain": "array([[1, 2, 3],\n       [4, 5, 6],\n       [7, 8, 9]])"
     },
     "execution_count": 18,
     "metadata": {},
     "output_type": "execute_result"
    }
   ],
   "source": [
    "#converting a 1d array to 2d array\n",
    "numpy_arr_2d = numpy_arr.reshape(3,3)\n",
    "numpy_arr_2d"
   ],
   "metadata": {
    "collapsed": false,
    "ExecuteTime": {
     "end_time": "2023-10-03T22:43:04.999497100Z",
     "start_time": "2023-10-03T22:43:04.918976Z"
    }
   },
   "id": "788adc34ba225fe8"
  },
  {
   "cell_type": "code",
   "execution_count": 19,
   "outputs": [],
   "source": [
    "#converting a 1d array to 3d array\n",
    "numpy_arr = np.array([x for x in range(1,13)])"
   ],
   "metadata": {
    "collapsed": false,
    "ExecuteTime": {
     "end_time": "2023-10-03T22:43:05.000497Z",
     "start_time": "2023-10-03T22:43:04.934015800Z"
    }
   },
   "id": "a78932bd03cf94f2"
  },
  {
   "cell_type": "code",
   "execution_count": 20,
   "outputs": [
    {
     "data": {
      "text/plain": "array([[[ 1,  2],\n        [ 3,  4]],\n\n       [[ 5,  6],\n        [ 7,  8]],\n\n       [[ 9, 10],\n        [11, 12]]])"
     },
     "execution_count": 20,
     "metadata": {},
     "output_type": "execute_result"
    }
   ],
   "source": [
    "numpy_arr_3d = numpy_arr.reshape(3,2,2)\n",
    "numpy_arr_3d"
   ],
   "metadata": {
    "collapsed": false,
    "ExecuteTime": {
     "end_time": "2023-10-03T22:43:05.002499300Z",
     "start_time": "2023-10-03T22:43:04.948690600Z"
    }
   },
   "id": "23844e4cadad2b51"
  },
  {
   "cell_type": "code",
   "execution_count": 21,
   "outputs": [
    {
     "data": {
      "text/plain": "array([ 1,  2,  3,  4,  5,  6,  7,  8,  9, 10, 11, 12])"
     },
     "execution_count": 21,
     "metadata": {},
     "output_type": "execute_result"
    }
   ],
   "source": [
    "#flatten method\n",
    "numpy_arr_3d.reshape(-1)\n"
   ],
   "metadata": {
    "collapsed": false,
    "ExecuteTime": {
     "end_time": "2023-10-03T22:43:05.024371900Z",
     "start_time": "2023-10-03T22:43:04.966320800Z"
    }
   },
   "id": "c340002693902b1b"
  },
  {
   "cell_type": "markdown",
   "source": [
    "conditional logic in numpyu arrays"
   ],
   "metadata": {
    "collapsed": false
   },
   "id": "43b26426b15bf629"
  },
  {
   "cell_type": "code",
   "execution_count": 22,
   "outputs": [
    {
     "data": {
      "text/plain": "array([1, 2, 3, 4, 5, 6, 7, 8, 9])"
     },
     "execution_count": 22,
     "metadata": {},
     "output_type": "execute_result"
    }
   ],
   "source": [
    "x = np.array([x for x in range(1,10)])\n",
    "x"
   ],
   "metadata": {
    "collapsed": false,
    "ExecuteTime": {
     "end_time": "2023-10-03T22:43:05.031724900Z",
     "start_time": "2023-10-03T22:43:04.995498300Z"
    }
   },
   "id": "bf16001e4ec239bd"
  },
  {
   "cell_type": "code",
   "execution_count": 23,
   "outputs": [
    {
     "data": {
      "text/plain": "array(['odd', 'even', 'odd', 'even', 'odd', 'even', 'odd', 'even', 'odd'],\n      dtype='<U4')"
     },
     "execution_count": 23,
     "metadata": {},
     "output_type": "execute_result"
    }
   ],
   "source": [
    "np.where(x%2==0,'even','odd')"
   ],
   "metadata": {
    "collapsed": false,
    "ExecuteTime": {
     "end_time": "2023-10-03T22:43:05.250724500Z",
     "start_time": "2023-10-03T22:43:05.010951Z"
    }
   },
   "id": "5f525e5d613d1357"
  },
  {
   "cell_type": "code",
   "execution_count": 24,
   "outputs": [],
   "source": [
    "condlist = [x<5,x>5]\n",
    "choicelist = [x**2,x**3]"
   ],
   "metadata": {
    "collapsed": false,
    "ExecuteTime": {
     "end_time": "2023-10-03T22:43:05.284428800Z",
     "start_time": "2023-10-03T22:43:05.024371900Z"
    }
   },
   "id": "b91e030747531bad"
  },
  {
   "cell_type": "code",
   "execution_count": 25,
   "outputs": [
    {
     "data": {
      "text/plain": "array([  1,   4,   9,  16,   5, 216, 343, 512, 729])"
     },
     "execution_count": 25,
     "metadata": {},
     "output_type": "execute_result"
    }
   ],
   "source": [
    "np.select(condlist,choicelist,default=x)"
   ],
   "metadata": {
    "collapsed": false,
    "ExecuteTime": {
     "end_time": "2023-10-03T22:43:05.287139800Z",
     "start_time": "2023-10-03T22:43:05.037266900Z"
    }
   },
   "id": "80d0c20e15e04e6"
  },
  {
   "cell_type": "markdown",
   "source": [
    "indexing and slicing"
   ],
   "metadata": {
    "collapsed": false
   },
   "id": "8b503a5927870bf"
  },
  {
   "cell_type": "code",
   "execution_count": 26,
   "outputs": [],
   "source": [
    "array_1d = np.array([1,2,3,4,5,6])\n",
    "array_2d = np.array([[1,2,3],[4,5,6]])\n",
    "array_3d = np.array([[[1,2,3],[4,5,6]],[[7,8,9],[10,11,12]]])\n"
   ],
   "metadata": {
    "collapsed": false,
    "ExecuteTime": {
     "end_time": "2023-10-03T22:43:05.288487500Z",
     "start_time": "2023-10-03T22:43:05.085276600Z"
    }
   },
   "id": "d9b14b45800bfdef"
  },
  {
   "cell_type": "code",
   "execution_count": 27,
   "outputs": [
    {
     "data": {
      "text/plain": "4"
     },
     "execution_count": 27,
     "metadata": {},
     "output_type": "execute_result"
    }
   ],
   "source": [
    "array_1d[-3]"
   ],
   "metadata": {
    "collapsed": false,
    "ExecuteTime": {
     "end_time": "2023-10-03T22:43:05.295350Z",
     "start_time": "2023-10-03T22:43:05.120293300Z"
    }
   },
   "id": "18e7dfeb75be162b"
  },
  {
   "cell_type": "code",
   "execution_count": 28,
   "outputs": [
    {
     "data": {
      "text/plain": "6"
     },
     "execution_count": 28,
     "metadata": {},
     "output_type": "execute_result"
    }
   ],
   "source": [
    "array_2d[1,2]"
   ],
   "metadata": {
    "collapsed": false,
    "ExecuteTime": {
     "end_time": "2023-10-03T22:43:05.297868900Z",
     "start_time": "2023-10-03T22:43:05.151348300Z"
    }
   },
   "id": "fa4d5074a98e4a35"
  },
  {
   "cell_type": "code",
   "execution_count": 29,
   "outputs": [
    {
     "data": {
      "text/plain": "12"
     },
     "execution_count": 29,
     "metadata": {},
     "output_type": "execute_result"
    }
   ],
   "source": [
    "array_3d[1,1,2]"
   ],
   "metadata": {
    "collapsed": false,
    "ExecuteTime": {
     "end_time": "2023-10-03T22:43:05.298869600Z",
     "start_time": "2023-10-03T22:43:05.168349Z"
    }
   },
   "id": "ea5310b688baf9dc"
  },
  {
   "cell_type": "markdown",
   "source": [
    "slicing Part b"
   ],
   "metadata": {
    "collapsed": false
   },
   "id": "14be2550ebed1aad"
  },
  {
   "cell_type": "code",
   "execution_count": 32,
   "outputs": [],
   "source": [
    "array_1d = np.array([1,2,3,4,5,6])\n",
    "array_2d = np.array([[1,2,3],[4,5,6]])\n",
    "array_3d = np.array([[[1,2,3],[4,5,6]],[[7,8,9],[10,11,12]]])"
   ],
   "metadata": {
    "collapsed": false,
    "ExecuteTime": {
     "end_time": "2023-10-03T22:44:07.644617300Z",
     "start_time": "2023-10-03T22:44:07.630430800Z"
    }
   },
   "id": "9cc7baf024165e36"
  },
  {
   "cell_type": "code",
   "execution_count": 33,
   "outputs": [
    {
     "data": {
      "text/plain": "array([1, 2, 3, 4, 5, 6])"
     },
     "execution_count": 33,
     "metadata": {},
     "output_type": "execute_result"
    }
   ],
   "source": [
    "array_1d"
   ],
   "metadata": {
    "collapsed": false,
    "ExecuteTime": {
     "end_time": "2023-10-03T22:44:22.242623700Z",
     "start_time": "2023-10-03T22:44:22.208766200Z"
    }
   },
   "id": "cfda5c177549cfcd"
  },
  {
   "cell_type": "code",
   "execution_count": 35,
   "outputs": [
    {
     "data": {
      "text/plain": "array([4, 5])"
     },
     "execution_count": 35,
     "metadata": {},
     "output_type": "execute_result"
    }
   ],
   "source": [
    "#array_1d[1:]\n",
    "array_1d[3:5]"
   ],
   "metadata": {
    "collapsed": false,
    "ExecuteTime": {
     "end_time": "2023-10-03T22:45:01.459613500Z",
     "start_time": "2023-10-03T22:45:01.442468200Z"
    }
   },
   "id": "7381ac6964be8bf5"
  },
  {
   "cell_type": "code",
   "execution_count": 39,
   "outputs": [
    {
     "data": {
      "text/plain": "array([4, 5])"
     },
     "execution_count": 39,
     "metadata": {},
     "output_type": "execute_result"
    }
   ],
   "source": [
    "array_1d[-3:-1]"
   ],
   "metadata": {
    "collapsed": false,
    "ExecuteTime": {
     "end_time": "2023-10-03T22:47:09.198968700Z",
     "start_time": "2023-10-03T22:47:09.175734800Z"
    }
   },
   "id": "b59ae269cdbbdfb2"
  },
  {
   "cell_type": "code",
   "execution_count": 40,
   "outputs": [
    {
     "data": {
      "text/plain": "array([[1, 2, 3],\n       [4, 5, 6]])"
     },
     "execution_count": 40,
     "metadata": {},
     "output_type": "execute_result"
    }
   ],
   "source": [
    "array_2d"
   ],
   "metadata": {
    "collapsed": false,
    "ExecuteTime": {
     "end_time": "2023-10-03T22:47:40.897590400Z",
     "start_time": "2023-10-03T22:47:40.864546100Z"
    }
   },
   "id": "67611496adfdcb9d"
  },
  {
   "cell_type": "code",
   "execution_count": 41,
   "outputs": [
    {
     "data": {
      "text/plain": "array([5, 6])"
     },
     "execution_count": 41,
     "metadata": {},
     "output_type": "execute_result"
    }
   ],
   "source": [
    "array_2d[1,1:]"
   ],
   "metadata": {
    "collapsed": false,
    "ExecuteTime": {
     "end_time": "2023-10-03T22:47:58.414520400Z",
     "start_time": "2023-10-03T22:47:58.372049200Z"
    }
   },
   "id": "9103f680886d661b"
  },
  {
   "cell_type": "code",
   "execution_count": 43,
   "outputs": [
    {
     "data": {
      "text/plain": "array([[1, 2, 3]])"
     },
     "execution_count": 43,
     "metadata": {},
     "output_type": "execute_result"
    }
   ],
   "source": [
    "array_2d[-2:-3:-1] "
   ],
   "metadata": {
    "collapsed": false,
    "ExecuteTime": {
     "end_time": "2023-10-03T22:56:13.372515100Z",
     "start_time": "2023-10-03T22:56:13.343959700Z"
    }
   },
   "id": "f127cbb4abcc5a21"
  },
  {
   "cell_type": "code",
   "execution_count": null,
   "outputs": [],
   "source": [],
   "metadata": {
    "collapsed": false
   },
   "id": "e69aa31729e6112e"
  }
 ],
 "metadata": {
  "kernelspec": {
   "display_name": "Python 3",
   "language": "python",
   "name": "python3"
  },
  "language_info": {
   "codemirror_mode": {
    "name": "ipython",
    "version": 2
   },
   "file_extension": ".py",
   "mimetype": "text/x-python",
   "name": "python",
   "nbconvert_exporter": "python",
   "pygments_lexer": "ipython2",
   "version": "2.7.6"
  }
 },
 "nbformat": 4,
 "nbformat_minor": 5
}
