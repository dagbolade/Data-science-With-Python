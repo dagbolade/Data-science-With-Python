{
 "cells": [
  {
   "cell_type": "code",
   "execution_count": null,
   "id": "initial_id",
   "metadata": {
    "collapsed": true
   },
   "outputs": [],
   "source": [
    "#import Numpy library\n",
    "import numpy as np"
   ]
  },
  {
   "cell_type": "code",
   "execution_count": null,
   "outputs": [],
   "source": [
    "#first Numpy array\n",
    "first_numpy_array = np.array([1,2,3,4])"
   ],
   "metadata": {
    "collapsed": false
   },
   "id": "7f632f6f10886b9c"
  },
  {
   "cell_type": "code",
   "execution_count": null,
   "outputs": [],
   "source": [
    "#print first array\n",
    "print(first_numpy_array)"
   ],
   "metadata": {
    "collapsed": false
   },
   "id": "ed2ee4df1178b041"
  },
  {
   "cell_type": "code",
   "execution_count": null,
   "outputs": [],
   "source": [
    "#array with zeros\n",
    "array_with_zeros = np.zeros((3,3))\n",
    "array_with_zeros"
   ],
   "metadata": {
    "collapsed": false
   },
   "id": "99887d862ddd431a"
  },
  {
   "cell_type": "code",
   "execution_count": null,
   "outputs": [],
   "source": [
    "#array with ones\n",
    "array_with_ones = np.ones((3,3))\n",
    "array_with_ones"
   ],
   "metadata": {
    "collapsed": false
   },
   "id": "55df842b86e0524b"
  },
  {
   "cell_type": "code",
   "execution_count": null,
   "outputs": [],
   "source": [
    "#array with empty\n",
    "array_with_empty = np.empty((2,3))\n",
    "array_with_empty"
   ],
   "metadata": {
    "collapsed": false
   },
   "id": "c024fe567db846d7"
  },
  {
   "cell_type": "code",
   "execution_count": null,
   "outputs": [],
   "source": [
    "#array with arange method\n",
    "array_with_arange = np.arange(12)\n",
    "array_with_arange\n"
   ],
   "metadata": {
    "collapsed": false
   },
   "id": "f7adbdbe79c7c106"
  },
  {
   "cell_type": "code",
   "execution_count": null,
   "outputs": [],
   "source": [
    "#array with reshape method  \n",
    "array_with_reshape = array_with_arange.reshape(3,4)\n",
    "array_with_reshape"
   ],
   "metadata": {
    "collapsed": false
   },
   "id": "9c3c8e92720c1be6"
  },
  {
   "cell_type": "code",
   "execution_count": null,
   "outputs": [],
   "source": [
    "#array with linspace method\n",
    "array_with_linspace = np.linspace(1,10,20)\n",
    "array_with_linspace"
   ],
   "metadata": {
    "collapsed": false
   },
   "id": "254c84bb8ddbb0d3"
  },
  {
   "cell_type": "code",
   "execution_count": null,
   "outputs": [],
   "source": [
    "#one dimensional array\n",
    "one_dimensional_array = np.arange(15)\n",
    "one_dimensional_array"
   ],
   "metadata": {
    "collapsed": false
   },
   "id": "8e11a4584d6d374d"
  },
  {
   "cell_type": "code",
   "execution_count": null,
   "outputs": [],
   "source": [
    "#two dimensional array\n",
    "two_dimensional_array = one_dimensional_array.reshape(3,5)\n",
    "two_dimensional_array"
   ],
   "metadata": {
    "collapsed": false
   },
   "id": "285aebd1cf28f442"
  },
  {
   "cell_type": "code",
   "execution_count": null,
   "outputs": [],
   "source": [
    "#three dimensional array\n",
    "three_dimensional_array = np.arange(27).reshape(3,3,3)\n",
    "three_dimensional_array"
   ],
   "metadata": {
    "collapsed": false
   },
   "id": "4c18cbeb1608dcb3"
  },
  {
   "cell_type": "markdown",
   "source": [
    "Creating Multiple Dimensional Arrays"
   ],
   "metadata": {
    "collapsed": false
   },
   "id": "af7f550f59f47e23"
  },
  {
   "cell_type": "code",
   "execution_count": null,
   "outputs": [],
   "source": [
    "np.array(24)"
   ],
   "metadata": {
    "collapsed": false
   },
   "id": "88d31d978c748011"
  },
  {
   "cell_type": "code",
   "execution_count": null,
   "outputs": [],
   "source": [
    "three_dimensional_array.shape"
   ],
   "metadata": {
    "collapsed": false
   },
   "id": "6d5595ff30eae6a5"
  },
  {
   "cell_type": "code",
   "execution_count": null,
   "outputs": [],
   "source": [
    "three_dimensional_array.ndim"
   ],
   "metadata": {
    "collapsed": false
   },
   "id": "edba1582b2a8359b"
  },
  {
   "cell_type": "markdown",
   "source": [],
   "metadata": {
    "collapsed": false
   },
   "id": "93cf33659270c6cf"
  },
  {
   "cell_type": "markdown",
   "source": [
    "converting a 1d array to 2d array or 3d array"
   ],
   "metadata": {
    "collapsed": false
   },
   "id": "d373f07c28dd393b"
  },
  {
   "cell_type": "code",
   "execution_count": 16,
   "outputs": [
    {
     "data": {
      "text/plain": "array([1, 2, 3, 4, 5, 6, 7, 8, 9])"
     },
     "execution_count": 16,
     "metadata": {},
     "output_type": "execute_result"
    }
   ],
   "source": [
    "#creating a 1d array\n",
    "numpy_arr = np.array([x for x in range(1,10)])\n",
    "numpy_arr"
   ],
   "metadata": {
    "collapsed": false,
    "ExecuteTime": {
     "end_time": "2023-09-24T14:01:01.226675900Z",
     "start_time": "2023-09-24T14:01:01.193204700Z"
    }
   },
   "id": "480082044d056c5e"
  },
  {
   "cell_type": "code",
   "execution_count": 17,
   "outputs": [
    {
     "data": {
      "text/plain": "array([[1, 2, 3],\n       [4, 5, 6],\n       [7, 8, 9]])"
     },
     "execution_count": 17,
     "metadata": {},
     "output_type": "execute_result"
    }
   ],
   "source": [
    "#converting a 1d array to 2d array\n",
    "numpy_arr_2d = numpy_arr.reshape(3,3)\n",
    "numpy_arr_2d"
   ],
   "metadata": {
    "collapsed": false,
    "ExecuteTime": {
     "end_time": "2023-09-24T14:01:51.406521300Z",
     "start_time": "2023-09-24T14:01:51.357461300Z"
    }
   },
   "id": "788adc34ba225fe8"
  },
  {
   "cell_type": "code",
   "execution_count": 18,
   "outputs": [],
   "source": [
    "#converting a 1d array to 3d array\n",
    "numpy_arr = np.array([x for x in range(1,13)])"
   ],
   "metadata": {
    "collapsed": false,
    "ExecuteTime": {
     "end_time": "2023-09-24T14:02:34.578332700Z",
     "start_time": "2023-09-24T14:02:34.555105200Z"
    }
   },
   "id": "a78932bd03cf94f2"
  },
  {
   "cell_type": "code",
   "execution_count": 24,
   "outputs": [
    {
     "data": {
      "text/plain": "array([[[ 1,  2],\n        [ 3,  4]],\n\n       [[ 5,  6],\n        [ 7,  8]],\n\n       [[ 9, 10],\n        [11, 12]]])"
     },
     "execution_count": 24,
     "metadata": {},
     "output_type": "execute_result"
    }
   ],
   "source": [
    "numpy_arr_3d = numpy_arr.reshape(3,2,2)\n",
    "numpy_arr_3d"
   ],
   "metadata": {
    "collapsed": false,
    "ExecuteTime": {
     "end_time": "2023-09-24T14:07:12.179445200Z",
     "start_time": "2023-09-24T14:07:12.161936700Z"
    }
   },
   "id": "23844e4cadad2b51"
  },
  {
   "cell_type": "code",
   "execution_count": 26,
   "outputs": [
    {
     "data": {
      "text/plain": "array([ 1,  2,  3,  4,  5,  6,  7,  8,  9, 10, 11, 12])"
     },
     "execution_count": 26,
     "metadata": {},
     "output_type": "execute_result"
    }
   ],
   "source": [
    "#flatten method\n",
    "numpy_arr_3d.reshape(-1)\n"
   ],
   "metadata": {
    "collapsed": false,
    "ExecuteTime": {
     "end_time": "2023-09-24T14:08:16.289228400Z",
     "start_time": "2023-09-24T14:08:16.272105500Z"
    }
   },
   "id": "c340002693902b1b"
  },
  {
   "cell_type": "markdown",
   "source": [
    "conditional logic in numpyu arrays"
   ],
   "metadata": {
    "collapsed": false
   },
   "id": "43b26426b15bf629"
  },
  {
   "cell_type": "code",
   "execution_count": 27,
   "outputs": [
    {
     "data": {
      "text/plain": "array([1, 2, 3, 4, 5, 6, 7, 8, 9])"
     },
     "execution_count": 27,
     "metadata": {},
     "output_type": "execute_result"
    }
   ],
   "source": [
    "x = np.array([x for x in range(1,10)])\n",
    "x"
   ],
   "metadata": {
    "collapsed": false,
    "ExecuteTime": {
     "end_time": "2023-09-24T14:23:55.544524100Z",
     "start_time": "2023-09-24T14:23:55.498147900Z"
    }
   },
   "id": "bf16001e4ec239bd"
  },
  {
   "cell_type": "code",
   "execution_count": 28,
   "outputs": [
    {
     "data": {
      "text/plain": "array(['odd', 'even', 'odd', 'even', 'odd', 'even', 'odd', 'even', 'odd'],\n      dtype='<U4')"
     },
     "execution_count": 28,
     "metadata": {},
     "output_type": "execute_result"
    }
   ],
   "source": [
    "np.where(x%2==0,'even','odd')"
   ],
   "metadata": {
    "collapsed": false,
    "ExecuteTime": {
     "end_time": "2023-09-24T14:24:57.768234400Z",
     "start_time": "2023-09-24T14:24:57.739833800Z"
    }
   },
   "id": "5f525e5d613d1357"
  },
  {
   "cell_type": "code",
   "execution_count": 29,
   "outputs": [],
   "source": [
    "condlist = [x<5,x>5]\n",
    "choicelist = [x**2,x**3]"
   ],
   "metadata": {
    "collapsed": false,
    "ExecuteTime": {
     "end_time": "2023-09-24T14:28:49.744935600Z",
     "start_time": "2023-09-24T14:28:49.717604100Z"
    }
   },
   "id": "b91e030747531bad"
  },
  {
   "cell_type": "code",
   "execution_count": 30,
   "outputs": [
    {
     "data": {
      "text/plain": "array([  1,   4,   9,  16,   5, 216, 343, 512, 729])"
     },
     "execution_count": 30,
     "metadata": {},
     "output_type": "execute_result"
    }
   ],
   "source": [
    "np.select(condlist,choicelist,default=x)"
   ],
   "metadata": {
    "collapsed": false,
    "ExecuteTime": {
     "end_time": "2023-09-24T14:29:38.070992700Z",
     "start_time": "2023-09-24T14:29:38.042318700Z"
    }
   },
   "id": "80d0c20e15e04e6"
  },
  {
   "cell_type": "markdown",
   "source": [
    "indexing and slicing"
   ],
   "metadata": {
    "collapsed": false
   },
   "id": "8b503a5927870bf"
  },
  {
   "cell_type": "code",
   "execution_count": 32,
   "outputs": [],
   "source": [
    "array_1d = np.array([1,2,3,4,5,6])\n",
    "array_2d = np.array([[1,2,3],[4,5,6]])\n",
    "array_3d = np.array([[[1,2,3],[4,5,6]],[[7,8,9],[10,11,12]]])\n"
   ],
   "metadata": {
    "collapsed": false,
    "ExecuteTime": {
     "end_time": "2023-09-24T14:41:45.659270Z",
     "start_time": "2023-09-24T14:41:45.646958600Z"
    }
   },
   "id": "d9b14b45800bfdef"
  },
  {
   "cell_type": "code",
   "execution_count": 34,
   "outputs": [
    {
     "data": {
      "text/plain": "4"
     },
     "execution_count": 34,
     "metadata": {},
     "output_type": "execute_result"
    }
   ],
   "source": [
    "array_1d[-3]"
   ],
   "metadata": {
    "collapsed": false,
    "ExecuteTime": {
     "end_time": "2023-09-24T14:42:18.539828800Z",
     "start_time": "2023-09-24T14:42:18.526898300Z"
    }
   },
   "id": "18e7dfeb75be162b"
  },
  {
   "cell_type": "code",
   "execution_count": 37,
   "outputs": [
    {
     "data": {
      "text/plain": "6"
     },
     "execution_count": 37,
     "metadata": {},
     "output_type": "execute_result"
    }
   ],
   "source": [
    "array_2d[1,2]"
   ],
   "metadata": {
    "collapsed": false,
    "ExecuteTime": {
     "end_time": "2023-09-24T14:43:13.038747600Z",
     "start_time": "2023-09-24T14:43:12.992294700Z"
    }
   },
   "id": "fa4d5074a98e4a35"
  },
  {
   "cell_type": "code",
   "execution_count": null,
   "outputs": [],
   "source": [],
   "metadata": {
    "collapsed": false
   },
   "id": "ea5310b688baf9dc"
  }
 ],
 "metadata": {
  "kernelspec": {
   "display_name": "Python 3",
   "language": "python",
   "name": "python3"
  },
  "language_info": {
   "codemirror_mode": {
    "name": "ipython",
    "version": 2
   },
   "file_extension": ".py",
   "mimetype": "text/x-python",
   "name": "python",
   "nbconvert_exporter": "python",
   "pygments_lexer": "ipython2",
   "version": "2.7.6"
  }
 },
 "nbformat": 4,
 "nbformat_minor": 5
}
